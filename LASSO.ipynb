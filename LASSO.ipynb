{
 "cells": [
  {
   "cell_type": "code",
   "execution_count": 49,
   "id": "edd8c44a",
   "metadata": {},
   "outputs": [],
   "source": [
    "import pandas as pd\n",
    "from sklearn.model_selection import KFold\n",
    "from sklearn.model_selection import cross_val_score\n",
    "from sklearn.linear_model import LinearRegression\n",
    "from sklearn.metrics import mean_squared_error\n",
    "from math import log\n",
    "from sklearn.metrics import r2_score\n",
    "import time\n",
    "from sklearn.preprocessing import StandardScaler\n",
    "from sklearn.linear_model import LassoLarsIC\n",
    "from sklearn.pipeline import make_pipeline\n",
    "from sklearn.linear_model import Lasso\n",
    "from sklearn.model_selection import train_test_split\n",
    "import math"
   ]
  },
  {
   "cell_type": "markdown",
   "id": "8ad80660",
   "metadata": {},
   "source": [
    "***Part 1***"
   ]
  },
  {
   "cell_type": "code",
   "execution_count": 50,
   "id": "639bacaf",
   "metadata": {},
   "outputs": [
    {
     "data": {
      "text/plain": [
       "mpg             0\n",
       "cylinders       0\n",
       "displacement    0\n",
       "horsepower      0\n",
       "weight          0\n",
       "acceleration    0\n",
       "model year      0\n",
       "origin          0\n",
       "dtype: int64"
      ]
     },
     "execution_count": 50,
     "metadata": {},
     "output_type": "execute_result"
    }
   ],
   "source": [
    "# Reading the data\n",
    "mpg = pd.read_csv(\"assignment4.csv\", index_col = 0)\n",
    "mpg.head()\n",
    "mpg.isna().sum()"
   ]
  },
  {
   "cell_type": "code",
   "execution_count": 51,
   "id": "be025e4b",
   "metadata": {},
   "outputs": [],
   "source": [
    "y = mpg['mpg']"
   ]
  },
  {
   "cell_type": "code",
   "execution_count": 52,
   "id": "6fc2e91e",
   "metadata": {},
   "outputs": [],
   "source": [
    "x = mpg.drop('mpg', axis = 1)"
   ]
  },
  {
   "cell_type": "markdown",
   "id": "aa735861",
   "metadata": {},
   "source": [
    "***Train Test Split 1(20% Training Data)***"
   ]
  },
  {
   "cell_type": "code",
   "execution_count": 53,
   "id": "49b5e870",
   "metadata": {},
   "outputs": [],
   "source": [
    "x_train1, x_test1, y_train1, y_test1 = train_test_split(x, y, test_size=0.2, random_state=42)"
   ]
  },
  {
   "cell_type": "code",
   "execution_count": 54,
   "id": "6950e8ef",
   "metadata": {},
   "outputs": [
    {
     "name": "stdout",
     "output_type": "stream",
     "text": [
      "OOS R-square value: 83.04848927901433\n",
      "RMSE: 3.019\n"
     ]
    }
   ],
   "source": [
    "model_1 = Lasso()\n",
    "model_1.fit(x_train1, y_train1)\n",
    "y_pred1 = model_1.predict(x_test1)\n",
    "r2 = r2_score(y_test1, y_pred1)\n",
    "print(\"OOS R-square value:\", r2*100)\n",
    "print(\"RMSE:\",round(math.sqrt(mean_squared_error(y_test1, y_pred1)),3))"
   ]
  },
  {
   "cell_type": "code",
   "execution_count": 55,
   "id": "35a31f40",
   "metadata": {},
   "outputs": [],
   "source": [
    "x_train2, x_test2, y_train2, y_test2 = train_test_split(x, y, test_size=0.8, random_state=42)"
   ]
  },
  {
   "cell_type": "code",
   "execution_count": 56,
   "id": "eb0fdff0",
   "metadata": {},
   "outputs": [
    {
     "name": "stdout",
     "output_type": "stream",
     "text": [
      "OOS R-square value: 78.9597458111637\n",
      "RMSE: 3.592\n"
     ]
    }
   ],
   "source": [
    "model_2 = Lasso()\n",
    "model_2.fit(x_train2, y_train2)\n",
    "y_pred2 = model_2.predict(x_test2)\n",
    "r2 = r2_score(y_test2, y_pred2)\n",
    "print(\"OOS R-square value:\", r2*100)\n",
    "print(\"RMSE:\",round(math.sqrt(mean_squared_error(y_test2, y_pred2)),3))"
   ]
  },
  {
   "cell_type": "markdown",
   "id": "c7af4403",
   "metadata": {},
   "source": [
    "**From the RMSE values and $OOS\\ R^2$ values of the models with 20% and 80% data, it is concluded that the model that uses 80% training data is performing better.**  \n",
    "**Hence, the principle of parsimony is followed by choosing 3 variables to explain the model rather than 5. Thereby, this will be the base model with same split of data for further questions**"
   ]
  },
  {
   "cell_type": "markdown",
   "id": "87c9770f",
   "metadata": {},
   "source": [
    "***Part 2***"
   ]
  },
  {
   "cell_type": "code",
   "execution_count": 57,
   "id": "4fdb7964",
   "metadata": {},
   "outputs": [],
   "source": [
    "#Defining the lasso function\n",
    "lasso_lars_ic = make_pipeline(\n",
    "    StandardScaler(), LassoLarsIC(criterion=\"aic\", normalize=False)\n",
    ").fit(x_train1, y_train1)"
   ]
  },
  {
   "cell_type": "code",
   "execution_count": 58,
   "id": "dd378b99",
   "metadata": {},
   "outputs": [],
   "source": [
    "results = pd.DataFrame(\n",
    "    {\n",
    "        \"alphas\": lasso_lars_ic[-1].alphas_,\n",
    "        \"AIC criterion\": lasso_lars_ic[-1].criterion_,\n",
    "    }\n",
    ").set_index(\"alphas\")\n",
    "alpha_aic = lasso_lars_ic[-1].alpha_"
   ]
  },
  {
   "cell_type": "code",
   "execution_count": 59,
   "id": "0dc87d26",
   "metadata": {},
   "outputs": [],
   "source": [
    "lasso_lars_ic.set_params(lassolarsic__criterion=\"bic\").fit(x_train1, y_train1)\n",
    "results[\"BIC criterion\"] = lasso_lars_ic[-1].criterion_\n",
    "alpha_bic = lasso_lars_ic[-1].alpha_"
   ]
  },
  {
   "cell_type": "code",
   "execution_count": 60,
   "id": "2d38b06f",
   "metadata": {},
   "outputs": [
    {
     "data": {
      "text/html": [
       "<style  type=\"text/css\" >\n",
       "#T_65017_row4_col0,#T_65017_row4_col1{\n",
       "            font-weight:  bold;\n",
       "        }</style><table id=\"T_65017_\" ><thead>    <tr>        <th class=\"blank level0\" ></th>        <th class=\"col_heading level0 col0\" >AIC criterion</th>        <th class=\"col_heading level0 col1\" >BIC criterion</th>    </tr>    <tr>        <th class=\"index_name level0\" >alphas</th>        <th class=\"blank\" ></th>        <th class=\"blank\" ></th>    </tr></thead><tbody>\n",
       "                <tr>\n",
       "                        <th id=\"T_65017_level0_row0\" class=\"row_heading level0 row0\" >6.55090058802256</th>\n",
       "                        <td id=\"T_65017_row0_col0\" class=\"data row0 col0\" >318.000000</td>\n",
       "                        <td id=\"T_65017_row0_col1\" class=\"data row0 col1\" >318.000000</td>\n",
       "            </tr>\n",
       "            <tr>\n",
       "                        <th id=\"T_65017_level0_row1\" class=\"row_heading level0 row1\" >3.777041444220047</th>\n",
       "                        <td id=\"T_65017_row1_col0\" class=\"data row1 col0\" >174.693868</td>\n",
       "                        <td id=\"T_65017_row1_col1\" class=\"data row1 col1\" >178.455920</td>\n",
       "            </tr>\n",
       "            <tr>\n",
       "                        <th id=\"T_65017_level0_row2\" class=\"row_heading level0 row2\" >1.4298798353209137</th>\n",
       "                        <td id=\"T_65017_row2_col0\" class=\"data row2 col0\" >82.287762</td>\n",
       "                        <td id=\"T_65017_row2_col1\" class=\"data row2 col1\" >89.811865</td>\n",
       "            </tr>\n",
       "            <tr>\n",
       "                        <th id=\"T_65017_level0_row3\" class=\"row_heading level0 row3\" >1.2214663973644484</th>\n",
       "                        <td id=\"T_65017_row3_col0\" class=\"data row3 col0\" >79.327560</td>\n",
       "                        <td id=\"T_65017_row3_col1\" class=\"data row3 col1\" >90.613714</td>\n",
       "            </tr>\n",
       "            <tr>\n",
       "                        <th id=\"T_65017_level0_row4\" class=\"row_heading level0 row4\" >0.09293700504540175</th>\n",
       "                        <td id=\"T_65017_row4_col0\" class=\"data row4 col0\" >67.908889</td>\n",
       "                        <td id=\"T_65017_row4_col1\" class=\"data row4 col1\" >82.957094</td>\n",
       "            </tr>\n",
       "            <tr>\n",
       "                        <th id=\"T_65017_level0_row5\" class=\"row_heading level0 row5\" >0.049379306927527504</th>\n",
       "                        <td id=\"T_65017_row5_col0\" class=\"data row5 col0\" >69.838785</td>\n",
       "                        <td id=\"T_65017_row5_col1\" class=\"data row5 col1\" >88.649042</td>\n",
       "            </tr>\n",
       "            <tr>\n",
       "                        <th id=\"T_65017_level0_row6\" class=\"row_heading level0 row6\" >0.012186346354541619</th>\n",
       "                        <td id=\"T_65017_row6_col0\" class=\"data row6 col0\" >71.214774</td>\n",
       "                        <td id=\"T_65017_row6_col1\" class=\"data row6 col1\" >93.787082</td>\n",
       "            </tr>\n",
       "            <tr>\n",
       "                        <th id=\"T_65017_level0_row7\" class=\"row_heading level0 row7\" >0.0</th>\n",
       "                        <td id=\"T_65017_row7_col0\" class=\"data row7 col0\" >73.142295</td>\n",
       "                        <td id=\"T_65017_row7_col1\" class=\"data row7 col1\" >99.476655</td>\n",
       "            </tr>\n",
       "    </tbody></table>"
      ],
      "text/plain": [
       "<pandas.io.formats.style.Styler at 0x7fb8f1abc880>"
      ]
     },
     "execution_count": 60,
     "metadata": {},
     "output_type": "execute_result"
    }
   ],
   "source": [
    "def highlight_min(x):\n",
    "    x_min = x.min()\n",
    "    return [\"font-weight: bold\" if v == x_min else \"\" for v in x]\n",
    "\n",
    "results.style.apply(highlight_min)"
   ]
  },
  {
   "cell_type": "code",
   "execution_count": 65,
   "id": "835ee752",
   "metadata": {},
   "outputs": [
    {
     "data": {
      "image/png": "[encoded data removed]",
      "text/plain": [
       "<Figure size 432x288 with 1 Axes>"
      ]
     },
     "metadata": {
      "needs_background": "light"
     },
     "output_type": "display_data"
    }
   ],
   "source": [
    "# Graph to display these criterion values on model selection\n",
    "ax = results.plot()\n",
    "ax.vlines(\n",
    "    alpha_aic,\n",
    "    results[\"AIC criterion\"].min(),\n",
    "    results[\"AIC criterion\"].max(),\n",
    "    label=\"alpha: AIC estimate\",\n",
    "    linestyles=\"--\",\n",
    "    color=\"tab:blue\",\n",
    ")\n",
    "ax.vlines(\n",
    "    alpha_bic,\n",
    "    results[\"BIC criterion\"].min(),\n",
    "    results[\"BIC criterion\"].max(),\n",
    "    label=\"alpha: BIC estimate\",\n",
    "    linestyle=\"--\",\n",
    "    color=\"tab:orange\",\n",
    ")\n",
    "ax.set_xlabel(r\"$\\alpha$\")\n",
    "ax.set_ylabel(\"criterion\")\n",
    "ax.set_xscale(\"log\")\n",
    "ax.legend()\n",
    "_ = ax.set_title(\n",
    "    f\"Information-criterion for model selection\"\n",
    ")"
   ]
  },
  {
   "cell_type": "code",
   "execution_count": 66,
   "id": "a03a236b",
   "metadata": {},
   "outputs": [
    {
     "name": "stdout",
     "output_type": "stream",
     "text": [
      "OOS R-square value: 78.9597458111637\n",
      "RMSE: 3.019\n"
     ]
    }
   ],
   "source": [
    "model = Lasso(alpha=0.09294)\n",
    "x_train, x_test, y_train, y_test = train_test_split(x, y, test_size=0.2, random_state=42)\n",
    "model.fit(x_train, y_train)\n",
    "y_pred = model.predict(x_test)\n",
    "r2_score(y_test, y_pred)\n",
    "print(\"OOS R-square value:\", r2*100)\n",
    "print(\"RMSE:\",round(math.sqrt(mean_squared_error(y_test1, y_pred1)),3))"
   ]
  },
  {
   "cell_type": "code",
   "execution_count": 67,
   "id": "d15b8337",
   "metadata": {},
   "outputs": [
    {
     "data": {
      "text/plain": [
       "array([-0.        ,  0.00938627, -0.01203483, -0.00671665,  0.04312708,\n",
       "        0.78702271,  1.05078084])"
      ]
     },
     "execution_count": 67,
     "metadata": {},
     "output_type": "execute_result"
    }
   ],
   "source": [
    "model.coef_"
   ]
  },
  {
   "cell_type": "markdown",
   "id": "c81523d8",
   "metadata": {},
   "source": [
    "**With the AIC and BIC at 80% split for training data, the optimal value of $\\alpha is: 0.09294$**\n",
    "\n",
    "The LassoLarsIC class uses different values of $\\alpha$, for better method than making an equidistant list of $\\alpha$. Further for each of $\\alpha$ value, the corresponding aic and bic values are calculated. Thus the optimal value of $\\alpha$ is the $\\alpha$ that minimizes both aic and bic."
   ]
  },
  {
   "cell_type": "markdown",
   "id": "ee89a4db",
   "metadata": {},
   "source": [
    "***Part 3***"
   ]
  },
  {
   "cell_type": "code",
   "execution_count": 68,
   "id": "bd1612c7",
   "metadata": {},
   "outputs": [
    {
     "name": "stdout",
     "output_type": "stream",
     "text": [
      "The average OOS R squared value for cross validation: 78.98758517022166\n"
     ]
    }
   ],
   "source": [
    "lm = LinearRegression()\n",
    "folds = KFold(n_splits = 10, shuffle = True, random_state = 0)\n",
    "scores = cross_val_score(lm, x_train, y_train, scoring='r2', cv=folds)\n",
    "mean_scores = scores.mean()\n",
    "print(\"The average OOS R squared value for cross validation:\",mean_scores*100)"
   ]
  },
  {
   "cell_type": "markdown",
   "id": "c64f82e7",
   "metadata": {},
   "source": [
    "**The OOS R-squared value of a full model using simple linear regression on average is 78.98%. Thus indicating that when compared to an optimized Lasso Regression model, the lasso model is able to make better predictions despite using only 4 variables as compared to 7 variables in the full regression model.**"
   ]
  },
  {
   "cell_type": "markdown",
   "id": "cb07d17c",
   "metadata": {},
   "source": [
    "***Part 4***"
   ]
  },
  {
   "cell_type": "code",
   "execution_count": 69,
   "id": "a69fa5a8",
   "metadata": {},
   "outputs": [],
   "source": [
    "ytrain1_pred = model_1.predict(x_train1)\n",
    "mse1 = mean_squared_error(y_train1, ytrain1_pred)"
   ]
  },
  {
   "cell_type": "code",
   "execution_count": 70,
   "id": "987c14de",
   "metadata": {},
   "outputs": [
    {
     "data": {
      "text/plain": [
       "array([ 0.        , -0.        , -0.00532359, -0.00665824,  0.        ,\n",
       "        0.704171  ,  0.        ])"
      ]
     },
     "execution_count": 70,
     "metadata": {},
     "output_type": "execute_result"
    }
   ],
   "source": [
    "model_1.coef_"
   ]
  },
  {
   "cell_type": "code",
   "execution_count": 71,
   "id": "ed3e8bd7",
   "metadata": {},
   "outputs": [
    {
     "name": "stdout",
     "output_type": "stream",
     "text": [
      "Number of non zero-parameters: 4\n"
     ]
    }
   ],
   "source": [
    "num_params1 = 4 \n",
    "print('Number of non zero-parameters: %d' % (num_params1))"
   ]
  },
  {
   "cell_type": "markdown",
   "id": "49360887",
   "metadata": {},
   "source": [
    "***Evaluation Criteria for Model_1***"
   ]
  },
  {
   "cell_type": "code",
   "execution_count": 72,
   "id": "98b6fe9f",
   "metadata": {},
   "outputs": [
    {
     "name": "stdout",
     "output_type": "stream",
     "text": [
      "AIC: 808\n",
      "AICC: 808\n",
      "BIC: 823\n"
     ]
    }
   ],
   "source": [
    "aic1 = len(y_train1) * log(mse1) + 2 * num_params1  \n",
    "print('AIC: %d' % (aic1))\n",
    "aic_c1 = aic1 + (2*num_params1*(num_params1+1))/(len(y_train1) - num_params1 - 1)\n",
    "print('AICC: %d' % (aic_c1))\n",
    "bic1 = len(y_train1) * log(mse1) + num_params1 * log(len(y_train1))\n",
    "print('BIC: %d' % (bic1))"
   ]
  },
  {
   "cell_type": "code",
   "execution_count": 73,
   "id": "8ec74fef",
   "metadata": {},
   "outputs": [
    {
     "data": {
      "text/plain": [
       "array([-0.        ,  0.00938627, -0.01203483, -0.00671665,  0.04312708,\n",
       "        0.78702271,  1.05078084])"
      ]
     },
     "execution_count": 73,
     "metadata": {},
     "output_type": "execute_result"
    }
   ],
   "source": [
    "model.coef_"
   ]
  },
  {
   "cell_type": "markdown",
   "id": "d3970406",
   "metadata": {},
   "source": [
    "***Evaluation Criteria for Model***"
   ]
  },
  {
   "cell_type": "code",
   "execution_count": 74,
   "id": "b8fdbdfd",
   "metadata": {},
   "outputs": [
    {
     "name": "stdout",
     "output_type": "stream",
     "text": [
      "Number of non-zero parameters: 6\n",
      "AIC: 793\n",
      "AICC: 794\n",
      "BIC: 816\n"
     ]
    }
   ],
   "source": [
    "num_params2 = 6\n",
    "print('Number of non-zero parameters: %d' % (num_params2))\n",
    "\n",
    "ytrain2_pred = model.predict(x_train1)\n",
    "mse2 = mean_squared_error(y_train1, ytrain2_pred)\n",
    "aic2 = len(y_train1) * log(mse2) + 2 * num_params2\n",
    "print('AIC: %d' % (aic2))\n",
    "aic_c2 = aic2+ (2*num_params2*(num_params2+1))/(len(y_train1) - num_params2 - 1)\n",
    "print('AICC: %d' % (aic_c2))\n",
    "bic2 = len(y_train1) * log(mse2) + num_params2 * log(len(y_train1))\n",
    "print('BIC: %d' % (bic2))"
   ]
  },
  {
   "cell_type": "markdown",
   "id": "1b95a333",
   "metadata": {},
   "source": [
    "**As seen from above evaluation criteria for the model that the AIC, AICc and BIC values are all lower for the model with the optimal value of $\\alpha$ (Ques 2). Thus it can be concluded that the out of sample performance would be better for model with optimal $\\alpha$.**  \n",
    "  \n",
    "**In addition it can be observe that the values of AIC and AICc are nearly close which is because with the increase in sample size, the value for AICc approaches AIC.**  \n",
    "  \n",
    "**Also, notice that the BIC value is always higher than the AIC and AICc value which is because of the penalty parameter in AIC is 2 where as it is log(n) in BIC. Thus as long as the number of observations are more than 6, the value for BIC will always exceed the value for AIC.**"
   ]
  },
  {
   "cell_type": "markdown",
   "id": "ab708c50",
   "metadata": {},
   "source": [
    "***Part 5***"
   ]
  },
  {
   "cell_type": "markdown",
   "id": "47c2bcdb",
   "metadata": {},
   "source": [
    "Randomized Control Trials methodology is used to establish causal effects (real world effects). They are used to measure the impact of the change in a treatment of 'd' group population. An example of such method a to establish causal treatment effects (TE) is A/B Testing. A/B Testing includes dividision of a homogenous population into two random groups, control and test/treatment groups respectively. The test/treatment group is one which receives the treatment where as the control group is the one that receives the placebo or maintained at the existing state. Keeping all other factors constant, the impact of the treatment on both the groups is measured and the causal effect of the treatment are obtained.\n",
    "\n",
    "The benefit of using RCT is that it establishes a platform to excercise causality. With observational studies only inference can be procured on the correlation instead of using experimental studies like RCT, when performed well, brings the causal nature of the treatment into picture.\n",
    "\n",
    "Methods:\n",
    "\n",
    "When the nature of the outcome variable is binary, then logistic regression can be used to calculate the treatment effect.\n",
    "\n",
    "When  the nature of the outcome variable is continuous, then methods like ANOVA/ANCOVA and linear regression can be used to determine the treatment effect."
   ]
  },
  {
   "cell_type": "code",
   "execution_count": null,
   "id": "bd9cc49e",
   "metadata": {},
   "outputs": [],
   "source": []
  }
 ],
 "metadata": {
  "kernelspec": {
   "display_name": "Python 3",
   "language": "python",
   "name": "python3"
  },
  "language_info": {
   "codemirror_mode": {
    "name": "ipython",
    "version": 3
   },
   "file_extension": ".py",
   "mimetype": "text/x-python",
   "name": "python",
   "nbconvert_exporter": "python",
   "pygments_lexer": "ipython3",
   "version": "3.8.8"
  }
 },
 "nbformat": 4,
 "nbformat_minor": 5
}
